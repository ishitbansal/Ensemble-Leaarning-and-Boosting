{
 "cells": [
  {
   "cell_type": "code",
   "execution_count": 68,
   "metadata": {},
   "outputs": [],
   "source": [
    "import pandas as pd\n",
    "import numpy as np\n",
    "np.set_printoptions(threshold=np.inf)"
   ]
  },
  {
   "cell_type": "code",
   "execution_count": 69,
   "metadata": {},
   "outputs": [],
   "source": [
    "from sklearn.model_selection import train_test_split\n",
    "from sklearn.preprocessing import StandardScaler\n",
    "from sklearn.metrics import r2_score,mean_squared_error\n",
    "from sklearn.metrics import accuracy_score"
   ]
  },
  {
   "cell_type": "code",
   "execution_count": 70,
   "metadata": {},
   "outputs": [],
   "source": [
    "class MultinomialLogisticRegression:\n",
    "    def __init__(self, learning_rate=0.1, num_epochs=10000):\n",
    "        self.learning_rate = learning_rate\n",
    "        self.num_epochs = num_epochs\n",
    "\n",
    "    def set_hyperparameters(self, learning_rate, num_epochs):\n",
    "        self.learning_rate = learning_rate\n",
    "        self.num_epochs = num_epochs\n",
    "\n",
    "    def softmax(self, z):\n",
    "        exp_z = np.exp(z)\n",
    "        return exp_z / np.sum(exp_z, axis=1, keepdims=True)\n",
    "\n",
    "    def cross_entropy_loss(self, X, y):\n",
    "        z = np.dot(X, self.weights.T) + self.bias\n",
    "        y_pred = self.softmax(z)\n",
    "        m = y_pred.shape[0]\n",
    "        return -np.sum(np.log(y_pred) * y)/m\n",
    "\n",
    "    def gradient_descent(self, X, y):\n",
    "        m = X.shape[0]\n",
    "        for epoch in range(self.num_epochs):\n",
    "            z = np.dot(X, self.weights.T) + self.bias\n",
    "            y_pred = self.softmax(z)\n",
    "            dw = np.dot((y_pred - y).T, X)/m\n",
    "            db = np.sum(y_pred - y, axis=0)/m\n",
    "            self.weights -= self.learning_rate * dw\n",
    "            self.bias -= self.learning_rate * db\n",
    "            # print(loss)\n",
    "\n",
    "    def fit(self, X, y):\n",
    "        num_classes = y.shape[1]\n",
    "        num_features = X.shape[1]\n",
    "        self.weights = np.zeros((num_classes, num_features))\n",
    "        self.bias = np.zeros(num_classes)\n",
    "        self.gradient_descent(X, y)\n",
    "\n",
    "    def predict(self, X):\n",
    "        z = np.dot(X, self.weights.T) + self.bias\n",
    "        max_values = np.max(z, axis=1, keepdims=True)\n",
    "        y_pred = (z == max_values).astype(int)\n",
    "        return y_pred\n",
    "    \n",
    "    def predict_proba(self,X):\n",
    "        z = np.dot(X, self.weights.T) + self.bias\n",
    "        return z"
   ]
  },
  {
   "cell_type": "code",
   "execution_count": 71,
   "metadata": {},
   "outputs": [],
   "source": [
    "class MLPClassifier(object):\n",
    "    def __init__(self, inputLayerSize=2, hiddenLayers=1, hiddenLayerSize=3, outputLayerSize=1,acivationFunction=\"sigmoid\",number_epoch=1000,learning_rate=0.001,optimizer=\"gd\"):\n",
    "        self.inputLayerSize = inputLayerSize\n",
    "        self.outputLayerSize = outputLayerSize\n",
    "        self.hiddenLayers = hiddenLayers\n",
    "        self.hiddenLayerSize = hiddenLayerSize\n",
    "        self.activationFunction=acivationFunction\n",
    "        self.number_epoch=number_epoch\n",
    "        self.learning_rate=learning_rate\n",
    "        self.optimizer=optimizer\n",
    "\n",
    "    def initialize(self):\n",
    "        self.weights=[]\n",
    "        self.biases=[]\n",
    "        self.weights.append(np.random.randn(self.inputLayerSize, self.hiddenLayerSize))\n",
    "        self.biases.append(np.random.randn(self.hiddenLayerSize))\n",
    "        for i in range(self.hiddenLayers-1):\n",
    "            self.weights.append(np.random.randn(self.hiddenLayerSize, self.hiddenLayerSize))\n",
    "            self.biases.append(np.random.randn(self.hiddenLayerSize))\n",
    "        self.weights.append(np.random.randn(self.hiddenLayerSize, self.outputLayerSize))\n",
    "        self.biases.append(np.random.randn(self.outputLayerSize))\n",
    "\n",
    "    def fit(self,X,y):\n",
    "        if self.optimizer==\"gd\":\n",
    "            self.gd(X,y)\n",
    "        if self.optimizer==\"mini_gd\":\n",
    "            self.mini_gd(X,y)\n",
    "        if self.optimizer==\"sgd\":\n",
    "            self.sgd(X,y)\n",
    "\n",
    "    def softmax(self, z):\n",
    "        exp_z = np.exp(z)\n",
    "        return exp_z / np.sum(exp_z, axis=1, keepdims=True)\n",
    "    \n",
    "    def activation(self,z):\n",
    "        if(self.activationFunction=='sigmoid'):\n",
    "            return 1 / (1 + np.exp(-z))\n",
    "        if(self.activationFunction=='relu'):\n",
    "            return np.maximum(0, z)\n",
    "        if(self.activationFunction=='tanh'):\n",
    "            return np.tanh(z)\n",
    "    \n",
    "    def activationPrime(self,z):    \n",
    "        if(self.activationFunction=='sigmoid'):\n",
    "            return np.exp(-z)/((1 + np.exp(-z))**2)\n",
    "        if(self.activationFunction=='relu'):\n",
    "            return (z > 0).astype(int)\n",
    "        if(self.activationFunction=='tanh'):\n",
    "            return 1 - np.tanh(z) ** 2\n",
    "\n",
    "    def forward(self, X):\n",
    "        self.z=[]\n",
    "        self.a=[]\n",
    "        self.z.append(np.dot(X,self.weights[0])+self.biases[0])\n",
    "        self.a.append(self.activation(self.z[0]))\n",
    "        for i in range(1,self.hiddenLayers):\n",
    "            self.z.append(np.dot(self.a[i-1],self.weights[i])+self.biases[i])\n",
    "            self.a.append(self.activation(self.z[i]))\n",
    "        self.z.append(np.dot(self.a[self.hiddenLayers-1],self.weights[self.hiddenLayers])+self.biases[self.hiddenLayers])\n",
    "        self.a.append(self.softmax(self.z[self.hiddenLayers]))\n",
    "        yHat=self.a[self.hiddenLayers]\n",
    "        return yHat\n",
    "    \n",
    "    def predict(self, X):\n",
    "        yHat=self.forward(X)\n",
    "        max_values = np.max(yHat, axis=1, keepdims=True)\n",
    "        y_pred = (yHat == max_values).astype(int)\n",
    "        return y_pred\n",
    "    \n",
    "    def predict_proba(self,X):\n",
    "        yHat=self.forward(X)\n",
    "        return yHat\n",
    "\n",
    "    def backward(self,X,y):\n",
    "        m=len(X)\n",
    "        yHat=self.forward(X)\n",
    "        self.delta=[]\n",
    "        self.gradient_weight=[]\n",
    "        self.gradient_bias=[]\n",
    "        self.delta.append(-(y-yHat)/m)\n",
    "        self.gradient_weight.append(np.dot(self.a[self.hiddenLayers-1].T,self.delta[-1]))\n",
    "        self.gradient_bias.append(np.sum(self.delta[-1],axis=0))\n",
    "        for i in range(self.hiddenLayers-1,0,-1):\n",
    "            delta_i=np.dot(self.delta[-1],self.weights[i+1].T)*self.activationPrime(self.z[i])/m\n",
    "            self.delta.append(delta_i)\n",
    "            self.gradient_weight.append(np.dot(self.a[i-1].T,delta_i))\n",
    "            self.gradient_bias.append(np.sum(self.delta[-1],axis=0))\n",
    "        delta_i=np.dot(self.delta[-1],self.weights[1].T)*self.activationPrime(self.z[0])/m\n",
    "        self.delta.append(delta_i)\n",
    "        self.gradient_weight.append(np.dot(X.T,delta_i))\n",
    "        self.gradient_bias.append(np.sum(self.delta[-1],axis=0))\n",
    "        self.gradient_weight.reverse()\n",
    "        self.gradient_bias.reverse()\n",
    "\n",
    "    def loss(self, y_pred, y_true):\n",
    "        m=len(y_pred)\n",
    "        return -np.sum(np.log(y_pred) * y_true)/m\n",
    "\n",
    "    def gd(self,X,y):\n",
    "        self.initialize()\n",
    "        for i in range (self.number_epoch):\n",
    "            # print(self.loss(self.forward(X),y))\n",
    "            self.backward(X,y)\n",
    "            for j in range(len(self.weights)):\n",
    "                self.weights[j]-=self.learning_rate*self.gradient_weight[j]\n",
    "                self.biases[j]-=self.learning_rate*self.gradient_bias[j]\n",
    "\n",
    "    def mini_gd(self,X,y):\n",
    "        self.initialize()\n",
    "        batch_size=32\n",
    "        batches=len(X)//batch_size\n",
    "        for epoch in range(self.number_epoch):\n",
    "            for i in range(0,batches,batch_size):\n",
    "                self.backward(X[i:i+batch_size],y[i:i+batch_size])\n",
    "                for k in range(len(self.weights)):\n",
    "                    self.weights[k]-=self.learning_rate*self.gradient_weight[k]\n",
    "                    self.biases[k]-=self.learning_rate*self.gradient_bias[k]\n",
    "            # print(self.loss(self.forward(X),y))\n",
    "\n",
    "    def sgd(self,X,y):\n",
    "        self.initialize()\n",
    "        for j in range(self.number_epoch):\n",
    "            for i in range(len(X)):\n",
    "                self.backward(X[i:i+1],y[i:i+1])\n",
    "                for k in range(len(self.weights)):\n",
    "                    self.weights[k]-=self.learning_rate*self.gradient_weight[k]\n",
    "                    self.biases[k]-=self.learning_rate*self.gradient_bias[k]\n",
    "            # print(self.loss(self.forward(X),y))\n"
   ]
  },
  {
   "cell_type": "markdown",
   "metadata": {},
   "source": [
    "### Data Preprocessing"
   ]
  },
  {
   "cell_type": "code",
   "execution_count": 72,
   "metadata": {},
   "outputs": [],
   "source": [
    "wine_data = pd.read_csv('WineQT.csv')\n",
    "\n",
    "X= wine_data.drop(columns=['quality','Id'])\n",
    "y=wine_data['quality']\n",
    "y = pd.get_dummies(y, columns=['quality']).astype(int)\n",
    "X=X.to_numpy()\n",
    "y=y.to_numpy()\n",
    "\n",
    "X_train_cl, X_temp_cl, y_train_cl, y_temp_cl = train_test_split(X, y, test_size=0.2)\n",
    "X_val_cl, X_test_cl, y_val_cl, y_test_cl = train_test_split(X_temp_cl, y_temp_cl, test_size=0.5)\n",
    "\n",
    "\n",
    "scaler = StandardScaler()\n",
    "X_train_cl = scaler.fit_transform(X_train_cl)\n",
    "X_val_cl = scaler.transform(X_val_cl)\n",
    "X_test_cl = scaler.transform(X_test_cl)"
   ]
  },
  {
   "cell_type": "code",
   "execution_count": 73,
   "metadata": {},
   "outputs": [
    {
     "name": "stdout",
     "output_type": "stream",
     "text": [
      "Loss : 1.0190570608178335\n",
      "Accuracy : 0.6173913043478261\n"
     ]
    }
   ],
   "source": [
    "model = MultinomialLogisticRegression(0.01,1000)\n",
    "model.fit(X_train_cl, y_train_cl)\n",
    "\n",
    "y_pred = model.predict(X_test_cl)\n",
    "print('Loss :',model.cross_entropy_loss(X_train_cl,y_train_cl))\n",
    "print('Accuracy :',accuracy_score(y_test_cl, y_pred))"
   ]
  },
  {
   "cell_type": "code",
   "execution_count": 74,
   "metadata": {},
   "outputs": [
    {
     "name": "stdout",
     "output_type": "stream",
     "text": [
      "0.6214442013129103\n",
      "0.6434782608695652\n"
     ]
    }
   ],
   "source": [
    "model = MLPClassifier(11,2,10,6,acivationFunction=\"relu\",number_epoch=100,learning_rate=0.001,optimizer=\"sgd\")\n",
    "model.fit(X_train_cl,y_train_cl)\n",
    "\n",
    "y_pred=model.predict(X_train_cl)\n",
    "print(accuracy_score(y_train_cl, y_pred))\n",
    "\n",
    "y_pred=model.predict(X_test_cl)\n",
    "print(accuracy_score(y_test_cl, y_pred))"
   ]
  },
  {
   "cell_type": "code",
   "execution_count": 75,
   "metadata": {},
   "outputs": [
    {
     "name": "stdout",
     "output_type": "stream",
     "text": [
      "Accuracy: 0.6260869565217392\n"
     ]
    }
   ],
   "source": [
    "from sklearn.tree import DecisionTreeClassifier\n",
    "\n",
    "clf = DecisionTreeClassifier(criterion='entropy',max_depth=30)\n",
    "clf.fit(X_train_cl, y_train_cl)\n",
    "y_pred = clf.predict(X_test_cl)\n",
    "\n",
    "accuracy = accuracy_score(y_test_cl, y_pred)\n",
    "print(f\"Accuracy: {accuracy}\")"
   ]
  },
  {
   "cell_type": "markdown",
   "metadata": {},
   "source": [
    "### Stacking and Blending for Classification"
   ]
  },
  {
   "cell_type": "code",
   "execution_count": 76,
   "metadata": {},
   "outputs": [],
   "source": [
    "from sklearn.model_selection import StratifiedKFold\n",
    "import numpy as np\n",
    "\n",
    "class StackingClassifier:\n",
    "    def __init__(self, base_models, meta_model, n_folds=5):\n",
    "        self.base_models = base_models\n",
    "        self.meta_model = meta_model\n",
    "        self.n_folds = n_folds\n",
    "\n",
    "    def stacking(self, X, y):\n",
    "        y_labels = np.argmax(y, axis=1)\n",
    "        train_pred = [np.zeros(len(y_labels)) for _ in self.base_models]\n",
    "        test_pred = list()\n",
    "        for i, model in enumerate(self.base_models):\n",
    "            skf = StratifiedKFold(n_splits=self.n_folds, shuffle=True)\n",
    "            for train_idx, valid_idx in skf.split(X, y_labels):\n",
    "                X_train, X_valid = X[train_idx], X[valid_idx]\n",
    "                y_train, y_valid = y_labels[train_idx], y_labels[valid_idx]\n",
    "                unique_labels = np.unique(y_train)\n",
    "                y_train = np.eye(len(unique_labels))[y_train].astype(int)\n",
    "                model.fit(X_train, y_train)\n",
    "                y_pred=model.predict(X_valid)\n",
    "                y_pred = np.argmax(y_pred, axis=1)\n",
    "                train_pred[i][valid_idx] = y_pred\n",
    "\n",
    "            y_pred_test=model.predict(X_test_cl)\n",
    "            y_pred_test = np.argmax(y_pred_test, axis=1)\n",
    "            test_pred.append(y_pred_test)\n",
    "\n",
    "        meta_train_features=np.column_stack(train_pred)\n",
    "        meta_test_features=np.column_stack(test_pred)\n",
    "\n",
    "        self.meta_model.fit(meta_train_features,y)\n",
    "        y_pred=self.meta_model.predict(meta_test_features)\n",
    "        return accuracy_score(y_test_cl,y_pred)\n",
    "\n",
    "    def blending(self, X, y):\n",
    "        train_pred = list()\n",
    "        test_pred = list()\n",
    "        for model in self.base_models:\n",
    "            model.fit(X, y)\n",
    "            y_pred=model.predict(X_val_cl)\n",
    "            train_pred.append(y_pred)\n",
    "\n",
    "            y_pred_test=model.predict(X_test_cl)\n",
    "            test_pred.append(y_pred_test)\n",
    "\n",
    "        meta_train_features=np.column_stack(train_pred)\n",
    "        meta_test_features=np.column_stack(test_pred)\n",
    "\n",
    "        self.meta_model.fit(meta_train_features,y_val_cl)\n",
    "        y_pred=self.meta_model.predict(meta_test_features)\n",
    "        return accuracy_score(y_test_cl,y_pred)"
   ]
  },
  {
   "cell_type": "code",
   "execution_count": 77,
   "metadata": {},
   "outputs": [
    {
     "name": "stderr",
     "output_type": "stream",
     "text": [
      "/home/ishitbansal/.local/lib/python3.10/site-packages/sklearn/model_selection/_split.py:725: UserWarning: The least populated class in y has only 4 members, which is less than n_splits=5.\n",
      "  warnings.warn(\n",
      "/home/ishitbansal/.local/lib/python3.10/site-packages/sklearn/model_selection/_split.py:725: UserWarning: The least populated class in y has only 4 members, which is less than n_splits=5.\n",
      "  warnings.warn(\n",
      "/home/ishitbansal/.local/lib/python3.10/site-packages/sklearn/model_selection/_split.py:725: UserWarning: The least populated class in y has only 4 members, which is less than n_splits=5.\n",
      "  warnings.warn(\n"
     ]
    },
    {
     "data": {
      "text/plain": [
       "0.6260869565217392"
      ]
     },
     "execution_count": 77,
     "metadata": {},
     "output_type": "execute_result"
    }
   ],
   "source": [
    "base_models = [MultinomialLogisticRegression(0.01,1000),DecisionTreeClassifier(criterion='gini',max_depth=20),MLPClassifier(11,2,10,6,acivationFunction=\"relu\",number_epoch=100,learning_rate=0.001,optimizer=\"sgd\")]\n",
    "meta_model = MultinomialLogisticRegression(0.01,1000)\n",
    "stacking_model = StackingClassifier(base_models, meta_model)\n",
    "stacking_model.stacking(X_train_cl, y_train_cl)"
   ]
  },
  {
   "cell_type": "code",
   "execution_count": 78,
   "metadata": {},
   "outputs": [
    {
     "data": {
      "text/plain": [
       "0.6521739130434783"
      ]
     },
     "execution_count": 78,
     "metadata": {},
     "output_type": "execute_result"
    }
   ],
   "source": [
    "base_models = [MultinomialLogisticRegression(0.01,1000),DecisionTreeClassifier(criterion='gini',max_depth=20),MLPClassifier(11,2,10,6,acivationFunction=\"relu\",number_epoch=100,learning_rate=0.001,optimizer=\"sgd\")]\n",
    "meta_model = MultinomialLogisticRegression(0.01,1000)\n",
    "stacking_model = StackingClassifier(base_models, meta_model)\n",
    "stacking_model.blending(X_train_cl, y_train_cl)"
   ]
  },
  {
   "cell_type": "code",
   "execution_count": 79,
   "metadata": {},
   "outputs": [
    {
     "name": "stderr",
     "output_type": "stream",
     "text": [
      "/home/ishitbansal/.local/lib/python3.10/site-packages/sklearn/model_selection/_split.py:725: UserWarning: The least populated class in y has only 4 members, which is less than n_splits=5.\n",
      "  warnings.warn(\n",
      "/home/ishitbansal/.local/lib/python3.10/site-packages/sklearn/model_selection/_split.py:725: UserWarning: The least populated class in y has only 4 members, which is less than n_splits=5.\n",
      "  warnings.warn(\n",
      "/home/ishitbansal/.local/lib/python3.10/site-packages/sklearn/model_selection/_split.py:725: UserWarning: The least populated class in y has only 4 members, which is less than n_splits=5.\n",
      "  warnings.warn(\n"
     ]
    },
    {
     "data": {
      "text/plain": [
       "0.591304347826087"
      ]
     },
     "execution_count": 79,
     "metadata": {},
     "output_type": "execute_result"
    }
   ],
   "source": [
    "base_models = [MultinomialLogisticRegression(0.01,1000),DecisionTreeClassifier(criterion='gini',max_depth=20),MLPClassifier(11,2,10,6,acivationFunction=\"relu\",number_epoch=100,learning_rate=0.001,optimizer=\"sgd\")]\n",
    "meta_model = DecisionTreeClassifier(criterion='gini',max_depth=20)\n",
    "stacking_model = StackingClassifier(base_models, meta_model)\n",
    "stacking_model.stacking(X_train_cl, y_train_cl)"
   ]
  },
  {
   "cell_type": "code",
   "execution_count": 80,
   "metadata": {},
   "outputs": [
    {
     "data": {
      "text/plain": [
       "0.5478260869565217"
      ]
     },
     "execution_count": 80,
     "metadata": {},
     "output_type": "execute_result"
    }
   ],
   "source": [
    "base_models = [MultinomialLogisticRegression(0.01,1000),DecisionTreeClassifier(),MLPClassifier(11,2,10,6,acivationFunction=\"relu\",number_epoch=100,learning_rate=0.001,optimizer=\"sgd\")]\n",
    "meta_model = DecisionTreeClassifier(criterion='gini',max_depth=20)\n",
    "stacking_model = StackingClassifier(base_models, meta_model)\n",
    "stacking_model.blending(X_train_cl, y_train_cl)"
   ]
  },
  {
   "cell_type": "markdown",
   "metadata": {},
   "source": [
    "### Hyperparameter Tuning for StackingClassifier"
   ]
  },
  {
   "cell_type": "markdown",
   "metadata": {},
   "source": [
    "Assumed different combinations as base_models for hyperparameter tuning"
   ]
  },
  {
   "cell_type": "code",
   "execution_count": 81,
   "metadata": {},
   "outputs": [],
   "source": [
    "models_1 = [MultinomialLogisticRegression(0.01,1000),DecisionTreeClassifier(criterion='gini',max_depth=20),MLPClassifier(11,2,10,6,acivationFunction=\"relu\",number_epoch=100,learning_rate=0.001,optimizer=\"sgd\")]\n",
    "models_2 = [MultinomialLogisticRegression(0.01,1000),DecisionTreeClassifier(criterion='gini',max_depth=20),MLPClassifier(11,2,10,6,acivationFunction=\"relu\",number_epoch=100,learning_rate=0.001,optimizer=\"sgd\")]\n",
    "models_3 = [MultinomialLogisticRegression(0.01,1000),DecisionTreeClassifier(criterion='gini',max_depth=20),MLPClassifier(11,2,10,6,acivationFunction=\"relu\",number_epoch=100,learning_rate=0.001,optimizer=\"sgd\")]\n",
    "\n",
    "best_hyperparameters_cl=tuple()\n",
    "best_accuracy_cl=0\n",
    "for model_1 in models_1:\n",
    "    for model_2 in models_2:\n",
    "        for model_3 in models_3:\n",
    "            base_models = [model_1,model_2,model_3]\n",
    "            meta_model = MultinomialLogisticRegression(0.01,1000)\n",
    "            stacking_model = StackingClassifier(base_models, meta_model)\n",
    "            accuracy=stacking_model.stacking(X_train_cl, y_train_cl)\n",
    "            if(accuracy>best_accuracy_cl):\n",
    "                best_hyperparameters_reg=('base_model :',model_1,model_2,model_3,'meta_model :',meta_model,'stacking_methodology : Stacking')\n",
    "                best_accuracy_cl=accuracy\n",
    "\n",
    "            base_models = [model_1,model_2,model_3]\n",
    "            meta_model = MultinomialLogisticRegression(0.01,1000)\n",
    "            stacking_model = StackingClassifier(base_models, meta_model)\n",
    "            accuracy=stacking_model.blending(X_train_cl, y_train_cl)\n",
    "            if(accuracy>best_accuracy_cl):\n",
    "                best_hyperparameters_reg=('base_model :',model_1,model_2,model_3,'meta_model :',meta_model,'stacking_methodology : Blending')\n",
    "                best_accuracy_cl=accuracy\n",
    "\n",
    "            base_models = [model_1,model_2,model_3]\n",
    "            meta_model = DecisionTreeClassifier(criterion='gini',max_depth=20)\n",
    "            stacking_model = StackingClassifier(base_models, meta_model)\n",
    "            accuracy=stacking_model.stacking(X_train_cl, y_train_cl)\n",
    "            if(accuracy>best_accuracy_cl):\n",
    "                best_hyperparameters_reg=('base_model :',model_1,model_2,model_3,'meta_model :',meta_model,'stacking_methodology : Stacking')\n",
    "                best_accuracy_cl=accuracy\n",
    "\n",
    "            base_models = [model_1,model_2,model_3]\n",
    "            meta_model = DecisionTreeClassifier(criterion='gini',max_depth=20)\n",
    "            stacking_model = StackingClassifier(base_models, meta_model)\n",
    "            a=stacking_model.blending(X_train_cl, y_train_cl)\n",
    "            if(accuracy>best_accuracy_cl):\n",
    "                best_hyperparameters_reg=('base_model :',model_1,model_2,model_3,'meta_model :',meta_model,'stacking_methodology : Stacking')\n",
    "                best_accuracy_cl=accuracy"
   ]
  },
  {
   "cell_type": "markdown",
   "metadata": {},
   "source": [
    "### Best Hyperparameters for StackingClassifier"
   ]
  },
  {
   "cell_type": "code",
   "execution_count": 82,
   "metadata": {},
   "outputs": [
    {
     "name": "stdout",
     "output_type": "stream",
     "text": [
      "Best Hyperparameters : ('base_model :', <__main__.MLPClassifier object at 0x7f34d8df5900>, DecisionTreeClassifier(max_depth=20), <__main__.MLPClassifier object at 0x7f34d8df4af0>, 'meta_model :', <__main__.MLPClassifier object at 0x7f34d8df4820>, 'stacking_methodology : Blending')\n"
     ]
    }
   ],
   "source": [
    "print('Best Hyperparameters :',best_hyperparameters_cl)"
   ]
  },
  {
   "cell_type": "markdown",
   "metadata": {},
   "source": [
    "From above, best hyperparameters :- <br>\n",
    "base_models : LogisticRegression,DecisionTreeClassifier,MLPClassifier <br>\n",
    "meta_model : LogisticRegression <br>\n",
    "stacking_methodology : Blending"
   ]
  },
  {
   "cell_type": "markdown",
   "metadata": {},
   "source": [
    "## Regression"
   ]
  },
  {
   "cell_type": "code",
   "execution_count": 83,
   "metadata": {},
   "outputs": [],
   "source": [
    "class MultipleLinearRegression:\n",
    "    def __init__(self, learning_rate=0.01, num_epochs=1000):\n",
    "        self.learning_rate = learning_rate\n",
    "        self.num_epochs = num_epochs\n",
    "\n",
    "    def fit(self, X, y):\n",
    "        num_samples, num_features = X.shape\n",
    "        self.coefficients = np.zeros(num_features)\n",
    "        self.intercept = 0\n",
    "        \n",
    "        for i in range(self.num_epochs):\n",
    "            y_pred = np.dot(X, self.coefficients) + self.intercept\n",
    "            dw = (1/num_samples) * np.dot(X.T, (y_pred - y))\n",
    "            db = (1/num_samples) * np.sum(y_pred - y)\n",
    "            self.coefficients -= self.learning_rate * dw\n",
    "            self.intercept -= self.learning_rate * db\n",
    "            mse = self.mean_squared_error(y, y_pred)\n",
    "            # print(mse)\n",
    "\n",
    "    def mean_squared_error(self, y_true, y_pred):\n",
    "        return np.mean((y_true - y_pred) ** 2)\n",
    "    \n",
    "    def predict(self, X):\n",
    "        return np.dot(X, self.coefficients) + self.intercept"
   ]
  },
  {
   "cell_type": "code",
   "execution_count": 84,
   "metadata": {},
   "outputs": [],
   "source": [
    "class MLPRegressor(object):\n",
    "    def __init__(self, inputLayerSize=2, hiddenLayers=1, hiddenLayerSize=3, outputLayerSize=1,acivationFunction=\"sigmoid\",number_epoch=10000,learning_rate=0.3,optimizer=\"gd\"):\n",
    "        self.inputLayerSize = inputLayerSize\n",
    "        self.outputLayerSize = outputLayerSize\n",
    "        self.hiddenLayers = hiddenLayers\n",
    "        self.hiddenLayerSize = hiddenLayerSize\n",
    "        self.activationFunction=acivationFunction\n",
    "        self.number_epoch=number_epoch\n",
    "        self.learning_rate=learning_rate\n",
    "        self.optimizer=optimizer\n",
    "\n",
    "    def initialize(self):\n",
    "        self.weights=[]\n",
    "        self.biases=[]\n",
    "        self.weights.append(np.random.randn(self.inputLayerSize, self.hiddenLayerSize))\n",
    "        self.biases.append(np.random.randn(self.hiddenLayerSize))\n",
    "        for i in range(self.hiddenLayers-1):\n",
    "            self.weights.append(np.random.randn(self.hiddenLayerSize, self.hiddenLayerSize))\n",
    "            self.biases.append(np.random.randn(self.hiddenLayerSize))\n",
    "        self.weights.append(np.random.randn(self.hiddenLayerSize, self.outputLayerSize))\n",
    "        self.biases.append(np.random.randn(self.outputLayerSize))\n",
    "\n",
    "    def fit(self,X,y):\n",
    "        y=y.reshape((len(y),1))\n",
    "        if self.optimizer==\"gd\":\n",
    "            self.gd(X,y)\n",
    "        if self.optimizer==\"mini_gd\":\n",
    "            self.mini_gd(X,y)\n",
    "        if self.optimizer==\"sgd\":\n",
    "            self.sgd(X,y)\n",
    "    \n",
    "    def activation(self,z):\n",
    "        if(self.activationFunction=='sigmoid'):\n",
    "            return 1 / (1 + np.exp(-z))\n",
    "        if(self.activationFunction=='relu'):\n",
    "            return np.maximum(0, z)\n",
    "        if(self.activationFunction=='tanh'):\n",
    "            return np.tanh(z)\n",
    "    \n",
    "    def activationPrime(self,z):    \n",
    "        if(self.activationFunction=='sigmoid'):\n",
    "            return np.exp(-z)/((1 + np.exp(-z))**2)\n",
    "        if(self.activationFunction=='relu'):\n",
    "            return (z > 0).astype(int)\n",
    "        if(self.activationFunction=='tanh'):\n",
    "            return 1 - np.tanh(z) ** 2\n",
    "\n",
    "    def forward(self, X):\n",
    "        self.z=[]\n",
    "        self.a=[]\n",
    "        self.z.append(np.dot(X,self.weights[0])+self.biases[0])\n",
    "        self.a.append(self.activation(self.z[0]))\n",
    "        for i in range(1,self.hiddenLayers):\n",
    "            self.z.append(np.dot(self.a[i-1],self.weights[i])+self.biases[i])\n",
    "            self.a.append(self.activation(self.z[i]))\n",
    "        self.z.append(np.dot(self.a[self.hiddenLayers-1],self.weights[self.hiddenLayers])+self.biases[self.hiddenLayers])\n",
    "        self.a.append(self.z[self.hiddenLayers])\n",
    "        yHat=self.a[self.hiddenLayers]\n",
    "        return yHat\n",
    "    \n",
    "    def predict(self, X):\n",
    "        yHat=self.forward(X)\n",
    "        return yHat\n",
    "\n",
    "    def backward(self,X,y):\n",
    "        m=len(X)\n",
    "        yHat=self.forward(X)\n",
    "        self.delta=[]\n",
    "        self.gradient_weight=[]\n",
    "        self.gradient_bias=[]\n",
    "        self.delta.append(-(y-yHat)/m)\n",
    "        self.gradient_weight.append(np.dot(self.a[self.hiddenLayers-1].T,self.delta[-1]))\n",
    "        self.gradient_bias.append(np.sum(self.delta[-1],axis=0))\n",
    "        for i in range(self.hiddenLayers-1,0,-1):\n",
    "            delta_i=np.dot(self.delta[-1],self.weights[i+1].T)*self.activationPrime(self.z[i])/m\n",
    "            self.delta.append(delta_i)\n",
    "            self.gradient_weight.append(np.dot(self.a[i-1].T,delta_i))\n",
    "            self.gradient_bias.append(np.sum(self.delta[-1],axis=0))\n",
    "        delta_i=np.dot(self.delta[-1],self.weights[1].T)*self.activationPrime(self.z[0])/m\n",
    "        self.delta.append(delta_i)\n",
    "        self.gradient_weight.append(np.dot(X.T,delta_i))\n",
    "        self.gradient_bias.append(np.sum(self.delta[-1],axis=0))\n",
    "        self.gradient_weight.reverse()\n",
    "        self.gradient_bias.reverse()\n",
    "\n",
    "    def loss(self, y_pred, y_true):\n",
    "        m=len(y_pred)\n",
    "        return 0.5*np.sum((y_true-y_pred)**2)\n",
    "\n",
    "    def gd(self,X,y):\n",
    "        self.initialize()\n",
    "        for i in range (self.number_epoch):\n",
    "            # print(self.loss(self.forward(X),y))\n",
    "            self.backward(X,y)\n",
    "            for j in range(len(self.weights)):\n",
    "                self.weights[j]-=self.learning_rate*self.gradient_weight[j]\n",
    "                self.biases[j]-=self.learning_rate*self.gradient_bias[j]\n",
    "\n",
    "    def sgd(self,X,y):\n",
    "        self.initialize()\n",
    "        for j in range(self.number_epoch):\n",
    "            for i in range(len(X)):\n",
    "                self.backward(X[i:i+1],y[i:i+1])\n",
    "                for k in range(len(self.weights)):\n",
    "                    self.weights[k]-=self.learning_rate*self.gradient_weight[k]\n",
    "                    self.biases[k]-=self.learning_rate*self.gradient_bias[k]\n",
    "            # print(self.loss(self.forward(X),y))\n",
    "\n",
    "    def mini_gd(self,X,y):\n",
    "        self.initialize()\n",
    "        batch_size=32\n",
    "        batches=len(X)//batch_size\n",
    "        for epoch in range(self.number_epoch):\n",
    "            for i in range(0,batches,batch_size):\n",
    "                self.backward(X[i:i+batch_size],y[i:i+batch_size])\n",
    "                for k in range(len(self.weights)):\n",
    "                    self.weights[k]-=self.learning_rate*self.gradient_weight[k]\n",
    "                    self.biases[k]-=self.learning_rate*self.gradient_bias[k]\n",
    "            # print(self.loss(self.forward(X),y))\n",
    "    "
   ]
  },
  {
   "cell_type": "markdown",
   "metadata": {},
   "source": [
    "### Data Preprocessing"
   ]
  },
  {
   "cell_type": "code",
   "execution_count": 85,
   "metadata": {},
   "outputs": [],
   "source": [
    "housing_data = pd.read_csv('HousingData.csv')\n",
    "\n",
    "housing_data.fillna(housing_data.mean(), inplace=True)\n",
    "\n",
    "X= housing_data.drop(columns=['MEDV'])\n",
    "y=housing_data['MEDV']\n",
    "X=X.to_numpy()\n",
    "y=y.to_numpy()\n",
    "\n",
    "# y=y.reshape((len(y),1))\n",
    "\n",
    "X_train_reg, X_temp_reg, y_train_reg, y_temp_reg = train_test_split(X, y, test_size=0.2)\n",
    "X_val_reg, X_test_reg, y_val_reg, y_test_reg = train_test_split(X_temp_reg, y_temp_reg, test_size=0.5)\n",
    "\n",
    "scaler = StandardScaler()\n",
    "X_train_reg = scaler.fit_transform(X_train_reg)\n",
    "X_val_reg = scaler.transform(X_val_reg)\n",
    "X_test_reg = scaler.transform(X_test_reg)"
   ]
  },
  {
   "cell_type": "code",
   "execution_count": 86,
   "metadata": {},
   "outputs": [
    {
     "name": "stdout",
     "output_type": "stream",
     "text": [
      "0.7723387966272751\n"
     ]
    }
   ],
   "source": [
    "model = MultipleLinearRegression(0.1,1000)\n",
    "model.fit(X_train_reg, y_train_reg)\n",
    "y_pred=model.predict(X_test_reg)\n",
    "print(r2_score(y_test_reg,y_pred))"
   ]
  },
  {
   "cell_type": "code",
   "execution_count": 87,
   "metadata": {},
   "outputs": [
    {
     "name": "stdout",
     "output_type": "stream",
     "text": [
      "0.8115875549195148\n",
      "18.23327427407508\n"
     ]
    }
   ],
   "source": [
    "model = MLPRegressor(13,5,5,1,acivationFunction=\"sigmoid\",number_epoch=1000,learning_rate=0.001,optimizer=\"sgd\")\n",
    "model.fit(X_train_reg,y_train_reg)\n",
    "y_pred=model.forward(X_test_reg)\n",
    "print(r2_score(y_test_reg,y_pred))\n",
    "print(mean_squared_error(y_test_reg,y_pred))"
   ]
  },
  {
   "cell_type": "code",
   "execution_count": 88,
   "metadata": {},
   "outputs": [
    {
     "name": "stdout",
     "output_type": "stream",
     "text": [
      "Mean Squared Error: 46.32392156862745\n",
      "0.5213145375171808\n"
     ]
    }
   ],
   "source": [
    "from sklearn.tree import DecisionTreeRegressor\n",
    "\n",
    "regressor = DecisionTreeRegressor()\n",
    "regressor.fit(X_train_reg, y_train_reg)\n",
    "y_pred = regressor.predict(X_test_reg)\n",
    "\n",
    "mse = mean_squared_error(y_test_reg, y_pred)\n",
    "print(f\"Mean Squared Error: {mse}\")\n",
    "print(r2_score(y_test_reg,y_pred))"
   ]
  },
  {
   "cell_type": "markdown",
   "metadata": {},
   "source": [
    "### Stacking and Blending for Regression"
   ]
  },
  {
   "cell_type": "code",
   "execution_count": 89,
   "metadata": {},
   "outputs": [],
   "source": [
    "from sklearn.model_selection import StratifiedKFold\n",
    "import numpy as np\n",
    "from sklearn.model_selection import KFold\n",
    "\n",
    "class StackingRegressor:\n",
    "    def __init__(self, base_models, meta_model, n_folds=5):\n",
    "        self.base_models = base_models\n",
    "        self.meta_model = meta_model\n",
    "        self.n_folds = n_folds\n",
    "\n",
    "    def stacking(self, X, y):\n",
    "        train_pred = [np.zeros(len(y)) for _ in self.base_models]\n",
    "        test_pred = list()\n",
    "        for i, model in enumerate(self.base_models):\n",
    "            kf = KFold(n_splits=4,shuffle=True)\n",
    "            for train_idx, valid_idx in kf.split(X, y):\n",
    "                X_train, X_valid = X[train_idx], X[valid_idx]\n",
    "                y_train, y_valid = y[train_idx], y[valid_idx]\n",
    "                model.fit(X_train, y_train)\n",
    "                y_pred=model.predict(X_valid)\n",
    "                y_pred = y_pred.reshape(y_pred.shape[0])\n",
    "                train_pred[i][valid_idx] = y_pred\n",
    "\n",
    "            y_pred_test=model.predict(X_test_reg)\n",
    "            test_pred.append(y_pred_test)\n",
    "\n",
    "        meta_train_features=np.column_stack(train_pred)\n",
    "        meta_test_features=np.column_stack(test_pred)\n",
    "        self.meta_model.fit(meta_train_features,y)\n",
    "        y_pred=self.meta_model.predict(meta_test_features)\n",
    "        return r2_score  (y_test_reg,y_pred)\n",
    "\n",
    "    def blending(self, X, y):\n",
    "        train_pred = list()\n",
    "        test_pred = list()\n",
    "        for model in self.base_models:\n",
    "            model.fit(X, y)\n",
    "            y_pred=model.predict(X_val_reg)\n",
    "            train_pred.append(y_pred)\n",
    "            y_pred_test=model.predict(X_test_reg)\n",
    "            test_pred.append(y_pred_test)\n",
    "\n",
    "        meta_train_features=np.column_stack(train_pred)\n",
    "        meta_test_features=np.column_stack(test_pred)\n",
    "        self.meta_model.fit(meta_train_features,y_val_reg)\n",
    "        y_pred=self.meta_model.predict(meta_test_features)\n",
    "        return r2_score(y_test_reg,y_pred)"
   ]
  },
  {
   "cell_type": "code",
   "execution_count": 90,
   "metadata": {},
   "outputs": [
    {
     "name": "stdout",
     "output_type": "stream",
     "text": [
      "0.7183752638185625\n"
     ]
    }
   ],
   "source": [
    "base_models = [MultipleLinearRegression(0.001,10000),DecisionTreeRegressor(criterion='squared_error',max_depth=20),MLPRegressor(13,5,5,1,acivationFunction=\"sigmoid\",number_epoch=1000,learning_rate=0.001,optimizer=\"sgd\")]\n",
    "meta_model = DecisionTreeRegressor(criterion='squared_error',max_depth=20)\n",
    "stacking_model = StackingRegressor(base_models, meta_model)\n",
    "r2=stacking_model.stacking(X_train_reg, y_train_reg)\n",
    "print(r2)"
   ]
  },
  {
   "cell_type": "code",
   "execution_count": 91,
   "metadata": {},
   "outputs": [
    {
     "name": "stdout",
     "output_type": "stream",
     "text": [
      "0.5346122564371254\n"
     ]
    }
   ],
   "source": [
    "base_models = [MultipleLinearRegression(0.001,10000),DecisionTreeRegressor(criterion='squared_error',max_depth=20),MLPRegressor(13,5,5,1,acivationFunction=\"sigmoid\",number_epoch=1000,learning_rate=0.001,optimizer=\"sgd\")]\n",
    "meta_model = DecisionTreeRegressor(criterion='squared_error',max_depth=20)\n",
    "stacking_model = StackingRegressor(base_models, meta_model)\n",
    "r2=stacking_model.blending(X_train_reg, y_train_reg)\n",
    "print(r2)"
   ]
  },
  {
   "cell_type": "code",
   "execution_count": 92,
   "metadata": {},
   "outputs": [
    {
     "name": "stdout",
     "output_type": "stream",
     "text": [
      "0.8662700454521537\n"
     ]
    }
   ],
   "source": [
    "base_models = [MultipleLinearRegression(0.001,10000),DecisionTreeRegressor(criterion='squared_error',max_depth=20),MLPRegressor(13,5,5,1,acivationFunction=\"sigmoid\",number_epoch=1000,learning_rate=0.001,optimizer=\"sgd\")]\n",
    "meta_model = MultipleLinearRegression(0.001,10000)\n",
    "stacking_model = StackingRegressor(base_models, meta_model)\n",
    "r2=stacking_model.stacking(X_train_reg, y_train_reg)\n",
    "print(r2)"
   ]
  },
  {
   "cell_type": "code",
   "execution_count": 93,
   "metadata": {},
   "outputs": [
    {
     "name": "stdout",
     "output_type": "stream",
     "text": [
      "0.8450040047599089\n"
     ]
    }
   ],
   "source": [
    "base_models = [MultipleLinearRegression(0.001,10000),DecisionTreeRegressor(criterion='squared_error',max_depth=20),MLPRegressor(13,5,5,1,acivationFunction=\"sigmoid\",number_epoch=1000,learning_rate=0.001,optimizer=\"sgd\")]\n",
    "meta_model = MultipleLinearRegression(0.001,10000)\n",
    "stacking_model = StackingRegressor(base_models, meta_model)\n",
    "r2=stacking_model.blending(X_train_reg, y_train_reg)\n",
    "print(r2)"
   ]
  },
  {
   "cell_type": "markdown",
   "metadata": {},
   "source": [
    "### Hyperparameter Tuning for StackingRegressor"
   ]
  },
  {
   "cell_type": "markdown",
   "metadata": {},
   "source": [
    "Assumed different combinations as base_models for hyperparameter tuning"
   ]
  },
  {
   "cell_type": "code",
   "execution_count": 94,
   "metadata": {},
   "outputs": [],
   "source": [
    "models_1 = [MultipleLinearRegression(0.001,10000),DecisionTreeRegressor(criterion='squared_error',max_depth=20),MLPRegressor(13,5,5,1,acivationFunction=\"sigmoid\",number_epoch=1000,learning_rate=0.001,optimizer=\"sgd\")]\n",
    "models_2 = [MultipleLinearRegression(0.001,10000),DecisionTreeRegressor(criterion='squared_error',max_depth=20),MLPRegressor(13,5,5,1,acivationFunction=\"sigmoid\",number_epoch=1000,learning_rate=0.001,optimizer=\"sgd\")]\n",
    "models_3 = [MultipleLinearRegression(0.001,10000),DecisionTreeRegressor(criterion='squared_error',max_depth=20),MLPRegressor(13,5,5,1,acivationFunction=\"sigmoid\",number_epoch=1000,learning_rate=0.001,optimizer=\"sgd\")]\n",
    "\n",
    "best_hyperparameters_reg=tuple()\n",
    "best_r2_reg=0\n",
    "for model_1 in models_1:\n",
    "    for model_2 in models_2:\n",
    "        for model_3 in models_3:\n",
    "            base_models = [model_1,model_2,model_3]\n",
    "            meta_model = MultipleLinearRegression(0.001,10000)\n",
    "            stacking_model = StackingRegressor(base_models, meta_model)\n",
    "            r2=stacking_model.stacking(X_train_reg, y_train_reg)\n",
    "            if(r2>best_r2_reg):\n",
    "                best_hyperparameters_reg=('base_model :',model_1,model_2,model_3,'meta_model :',meta_model,'stacking_methodology : Stacking')\n",
    "                best_r2_reg=r2\n",
    "\n",
    "            base_models = [model_1,model_2,model_3]\n",
    "            meta_model = MultipleLinearRegression(0.001,10000)\n",
    "            stacking_model = StackingRegressor(base_models, meta_model)\n",
    "            r2=stacking_model.blending(X_train_reg, y_train_reg)\n",
    "            if(r2>best_r2_reg):\n",
    "                best_hyperparameters_reg=('base_model :',model_1,model_2,model_3,'meta_model :',meta_model,'stacking_methodology : Blending')\n",
    "                best_r2_reg=r2\n",
    "\n",
    "            base_models = [model_1,model_2,model_3]\n",
    "            meta_model = DecisionTreeRegressor(criterion='squared_error',max_depth=20)\n",
    "            stacking_model = StackingRegressor(base_models, meta_model)\n",
    "            r2=stacking_model.stacking(X_train_reg, y_train_reg)\n",
    "            if(r2>best_r2_reg):\n",
    "                best_hyperparameters_reg=('base_model :',model_1,model_2,model_3,'meta_model :',meta_model,'stacking_methodology : Stacking')\n",
    "                best_r2_reg=r2\n",
    "\n",
    "            base_models = [model_1,model_2,model_3]\n",
    "            meta_model = DecisionTreeRegressor(criterion='squared_error',max_depth=20)\n",
    "            stacking_model = StackingRegressor(base_models, meta_model)\n",
    "            r2=stacking_model.blending(X_train_reg, y_train_reg)\n",
    "            if(r2>best_r2_reg):\n",
    "                best_hyperparameters_reg=('base_model :',model_1,model_2,model_3,'meta_model :',meta_model,'stacking_methodology : Blending')\n",
    "                best_r2_reg=r2"
   ]
  },
  {
   "cell_type": "markdown",
   "metadata": {},
   "source": [
    "### Best Hyperparameters for StackingRegressor"
   ]
  },
  {
   "cell_type": "code",
   "execution_count": 95,
   "metadata": {},
   "outputs": [
    {
     "name": "stdout",
     "output_type": "stream",
     "text": [
      "Best Hyperparameters : ('base_model :', <__main__.MultipleLinearRegression object at 0x7f34d8e25d80>, DecisionTreeRegressor(max_depth=20), <__main__.MLPRegressor object at 0x7f34d8e278e0>, 'meta_model :', <__main__.MultipleLinearRegression object at 0x7f34d8e27d60>, 'stacking_methodology : Blending')\n"
     ]
    }
   ],
   "source": [
    "print('Best Hyperparameters :',best_hyperparameters_reg)"
   ]
  },
  {
   "cell_type": "markdown",
   "metadata": {},
   "source": [
    "From above, best hyperparameters :- <br>\n",
    "base_models : LinearRegression,DecisionTreeRegressor,MLPRegressor <br>\n",
    "meta_model : LinearRegression <br>\n",
    "stacking_methodology : Blending"
   ]
  },
  {
   "cell_type": "markdown",
   "metadata": {},
   "source": [
    "### Comparing the accuracies and the training time of the best-performing models of Bagging and Stacking ensembles of each Base Estimator Model class."
   ]
  },
  {
   "cell_type": "code",
   "execution_count": 8,
   "metadata": {},
   "outputs": [],
   "source": [
    "import time\n",
    "base_models = [MultinomialLogisticRegression(0.01,1000),MultinomialLogisticRegression(0.01,1000),MultinomialLogisticRegression(0.01,1000)]\n",
    "best_accuracy_lg = 0\n",
    "training_time_cl_lg = 0\n",
    "meta_model = MultinomialLogisticRegression(0.01,1000)\n",
    "stacking_model = StackingClassifier(base_models, meta_model)\n",
    "start=time.time()\n",
    "accuracy=stacking_model.stacking(X_train_cl, y_train_cl)\n",
    "end=time.time()\n",
    "if(accuracy>best_accuracy_lg):\n",
    "    best_accuracy_lg=accuracy\n",
    "    training_time_cl_lg=end-start\n",
    "\n",
    "meta_model = MultinomialLogisticRegression(0.01,1000)\n",
    "stacking_model = StackingClassifier(base_models, meta_model)\n",
    "start=time.time()\n",
    "accuracy=stacking_model.blending(X_train_cl, y_train_cl)\n",
    "end=time.time()\n",
    "if(accuracy>best_accuracy_lg):\n",
    "    best_accuracy_lg=accuracy\n",
    "    training_time_cl_lg=end-start\n",
    "\n",
    "meta_model = DecisionTreeClassifier(criterion='gini',max_depth=20)\n",
    "stacking_model = StackingClassifier(base_models, meta_model)\n",
    "start=time.time()\n",
    "accuracy=stacking_model.stacking(X_train_cl, y_train_cl)\n",
    "end=time.time()\n",
    "if(accuracy>best_accuracy_lg):\n",
    "    best_accuracy_lg=accuracy\n",
    "    training_time_cl_lg=end-start\n",
    "\n",
    "meta_model = DecisionTreeClassifier(criterion='gini',max_depth=20)\n",
    "stacking_model = StackingClassifier(base_models, meta_model)\n",
    "start=time.time()\n",
    "accuracy=stacking_model.stacking(X_train_cl, y_train_cl)\n",
    "end=time.time()\n",
    "if(accuracy>best_accuracy_lg):\n",
    "    best_accuracy_lg=accuracy\n",
    "    training_time_cl_lg=end-start"
   ]
  },
  {
   "cell_type": "code",
   "execution_count": 9,
   "metadata": {},
   "outputs": [],
   "source": [
    "import time\n",
    "base_models = [DecisionTreeClassifier(criterion='gini',max_depth=20),DecisionTreeClassifier(criterion='gini',max_depth=20),DecisionTreeClassifier(criterion='gini',max_depth=20)]\n",
    "best_accuracy_dt = 0\n",
    "training_time_cl_dt = 0\n",
    "meta_model = MultinomialLogisticRegression(0.01,1000)\n",
    "stacking_model = StackingClassifier(base_models, meta_model)\n",
    "start=time.time()\n",
    "accuracy=stacking_model.stacking(X_train_cl, y_train_cl)\n",
    "end=time.time()\n",
    "if(accuracy>best_accuracy_dt):\n",
    "    best_accuracy_dt=accuracy\n",
    "    training_time_cl_dt=end-start\n",
    "\n",
    "meta_model = MultinomialLogisticRegression(0.01,1000)\n",
    "stacking_model = StackingClassifier(base_models, meta_model)\n",
    "start=time.time()\n",
    "accuracy=stacking_model.blending(X_train_cl, y_train_cl)\n",
    "end=time.time()\n",
    "if(accuracy>best_accuracy_dt):\n",
    "    best_accuracy_dt=accuracy\n",
    "    training_time_cl_dt=end-start\n",
    "\n",
    "meta_model = DecisionTreeClassifier(criterion='gini',max_depth=20)\n",
    "stacking_model = StackingClassifier(base_models, meta_model)\n",
    "start=time.time()\n",
    "accuracy=stacking_model.stacking(X_train_cl, y_train_cl)\n",
    "end=time.time()\n",
    "if(accuracy>best_accuracy_dt):\n",
    "    best_accuracy_dt=accuracy\n",
    "    training_time_cl_dt=end-start\n",
    "\n",
    "meta_model = DecisionTreeClassifier(criterion='gini',max_depth=20)\n",
    "stacking_model = StackingClassifier(base_models, meta_model)\n",
    "start=time.time()\n",
    "accuracy=stacking_model.stacking(X_train_cl, y_train_cl)\n",
    "end=time.time()\n",
    "if(accuracy>best_accuracy_dt):\n",
    "    best_accuracy_dt=accuracy\n",
    "    training_time_cl_dt=end-start"
   ]
  },
  {
   "cell_type": "code",
   "execution_count": 10,
   "metadata": {},
   "outputs": [],
   "source": [
    "import time\n",
    "base_models = [MLPClassifier(11,2,10,6,acivationFunction=\"relu\",number_epoch=100,learning_rate=0.001,optimizer=\"sgd\"),MLPClassifier(11,2,10,6,acivationFunction=\"relu\",number_epoch=100,learning_rate=0.001,optimizer=\"sgd\"),MLPClassifier(11,2,10,6,acivationFunction=\"relu\",number_epoch=100,learning_rate=0.001,optimizer=\"sgd\")]\n",
    "best_accuracy_mlp = 0\n",
    "training_time_cl_mlp = 0\n",
    "meta_model = MultinomialLogisticRegression(0.01,1000)\n",
    "stacking_model = StackingClassifier(base_models, meta_model)\n",
    "start=time.time()\n",
    "accuracy=stacking_model.stacking(X_train_cl, y_train_cl)\n",
    "end=time.time()\n",
    "if(accuracy>best_accuracy_mlp):\n",
    "    best_accuracy_mlp=accuracy\n",
    "    training_time_cl_mlp=end-start\n",
    "\n",
    "meta_model = MultinomialLogisticRegression(0.01,1000)\n",
    "stacking_model = StackingClassifier(base_models, meta_model)\n",
    "start=time.time()\n",
    "accuracy=stacking_model.blending(X_train_cl, y_train_cl)\n",
    "end=time.time()\n",
    "if(accuracy>best_accuracy_mlp):\n",
    "    best_accuracy_mlp=accuracy\n",
    "    training_time_cl_mlp=end-start\n",
    "\n",
    "meta_model = DecisionTreeClassifier(criterion='gini',max_depth=20)\n",
    "stacking_model = StackingClassifier(base_models, meta_model)\n",
    "start=time.time()\n",
    "accuracy=stacking_model.stacking(X_train_cl, y_train_cl)\n",
    "end=time.time()\n",
    "if(accuracy>best_accuracy_mlp):\n",
    "    best_accuracy_mlp=accuracy\n",
    "    training_time_cl_mlp=end-start\n",
    "\n",
    "meta_model = DecisionTreeClassifier(criterion='gini',max_depth=20)\n",
    "stacking_model = StackingClassifier(base_models, meta_model)\n",
    "start=time.time()\n",
    "accuracy=stacking_model.stacking(X_train_cl, y_train_cl)\n",
    "end=time.time()\n",
    "if(accuracy>best_accuracy_mlp):\n",
    "    best_accuracy_mlp=accuracy\n",
    "    training_time_cl_mlp=end-start"
   ]
  },
  {
   "cell_type": "code",
   "execution_count": 11,
   "metadata": {},
   "outputs": [
    {
     "data": {
      "image/png": "[encoded data removed]",
      "text/plain": [
       "<Figure size 640x480 with 1 Axes>"
      ]
     },
     "metadata": {},
     "output_type": "display_data"
    }
   ],
   "source": [
    "import matplotlib.pyplot as plt\n",
    "\n",
    "base_estimator_models=['LogisticRegression','MultiLayerPerceptron','DecisionTree']\n",
    "bagging_ensemble_accuracy = [0.652,0.678,0.660]\n",
    "stacking_ensemble_accuracy = [best_accuracy_lg,best_accuracy_mlp,best_accuracy_dt]\n",
    "\n",
    "fig, ax = plt.subplots()\n",
    "ax.bar(np.arange(3), bagging_ensemble_accuracy, width=0.4, label=\"Bagging Ensemble\", align='center')\n",
    "ax.bar(np.arange(3) + 0.4, stacking_ensemble_accuracy, width=0.4, label=\"Stacking Ensemble\", align='center', color='orange')\n",
    "ax.set_xticks(np.arange(3) + 0.2)\n",
    "ax.set_xticklabels(base_estimator_models)\n",
    "ax.set_ylabel('Accuracy')\n",
    "ax.set_title('Bagging vs Stacking Classifier Accuracy')\n",
    "ax.legend(bbox_to_anchor=(1, 1), loc='upper left')\n",
    "plt.show()\n"
   ]
  },
  {
   "cell_type": "code",
   "execution_count": 106,
   "metadata": {},
   "outputs": [
    {
     "data": {
      "image/png": "[encoded data removed]",
      "text/plain": [
       "<Figure size 640x480 with 1 Axes>"
      ]
     },
     "metadata": {},
     "output_type": "display_data"
    }
   ],
   "source": [
    "import matplotlib.pyplot as plt\n",
    "\n",
    "base_estimator_models=['LogisticRegression','MultiLayerPerceptron','DecisionTree']\n",
    "bagging_ensemble_training_time = [25.99,86.49,0.023]\n",
    "stacking_ensemble_training_time = [training_time_cl_lg,training_time_cl_mlp,training_time_cl_dt]\n",
    "\n",
    "fig, ax = plt.subplots()\n",
    "ax.bar(np.arange(3), bagging_ensemble_training_time, width=0.4, label=\"Bagging Ensemble\", align='center')\n",
    "ax.bar(np.arange(3) + 0.4, stacking_ensemble_training_time, width=0.4, label=\"Stacking Ensemble\", align='center', color='orange')\n",
    "ax.set_xticks(np.arange(3) + 0.2)\n",
    "ax.set_xticklabels(base_estimator_models)\n",
    "ax.set_ylabel('Training Time')\n",
    "ax.set_title('Bagging vs Stacking Classifier Training Time')\n",
    "ax.legend(bbox_to_anchor=(1, 1), loc='upper left')\n",
    "plt.show()\n"
   ]
  },
  {
   "cell_type": "code",
   "execution_count": 12,
   "metadata": {},
   "outputs": [],
   "source": [
    "import time\n",
    "base_models = [MultipleLinearRegression(0.001,10000),MultipleLinearRegression(0.001,10000),MultipleLinearRegression(0.001,10000)]\n",
    "best_r2_lg = 0\n",
    "training_time_reg_lg = 0\n",
    "meta_model = MultipleLinearRegression(0.001,10000)\n",
    "stacking_model = StackingRegressor(base_models, meta_model)\n",
    "start=time.time()\n",
    "r2=stacking_model.stacking(X_train_reg, y_train_reg)\n",
    "end=time.time()\n",
    "if(r2>best_r2_lg):\n",
    "    best_r2_lg=r2\n",
    "    training_time_reg_lg=end-start\n",
    "\n",
    "meta_model = MultipleLinearRegression(0.001,10000)\n",
    "stacking_model = StackingRegressor(base_models, meta_model)\n",
    "r2=stacking_model.blending(X_train_reg, y_train_reg)\n",
    "if(r2>best_r2_lg):\n",
    "    best_r2_lg=r2\n",
    "    training_time_reg_lg=end-start\n",
    "\n",
    "meta_model = DecisionTreeRegressor(criterion='squared_error',max_depth=20)\n",
    "stacking_model = StackingRegressor(base_models, meta_model)\n",
    "r2=stacking_model.stacking(X_train_reg, y_train_reg)\n",
    "if(r2>best_r2_lg):\n",
    "    best_r2_lg=r2\n",
    "    training_time_reg_lg=end-start\n",
    "\n",
    "meta_model = DecisionTreeRegressor(criterion='squared_error',max_depth=20)\n",
    "stacking_model = StackingRegressor(base_models, meta_model)\n",
    "r2=stacking_model.blending(X_train_reg, y_train_reg)\n",
    "if(r2>best_r2_reg):\n",
    "    best_r2_lg=r2\n",
    "    training_time_reg_lg=end-start"
   ]
  },
  {
   "cell_type": "code",
   "execution_count": 13,
   "metadata": {},
   "outputs": [],
   "source": [
    "import time\n",
    "base_models = [DecisionTreeRegressor(criterion='squared_error',max_depth=20),DecisionTreeRegressor(criterion='squared_error',max_depth=20),DecisionTreeRegressor(criterion='squared_error',max_depth=20)]\n",
    "best_r2_dt = 0\n",
    "training_time_reg_dt = 0\n",
    "meta_model = MultipleLinearRegression(0.001,10000)\n",
    "stacking_model = StackingRegressor(base_models, meta_model)\n",
    "start=time.time()\n",
    "r2=stacking_model.stacking(X_train_reg, y_train_reg)\n",
    "end=time.time()\n",
    "if(r2>best_r2_dt):\n",
    "    best_r2_dt=r2\n",
    "    training_time_reg_dt=end-start\n",
    "\n",
    "meta_model = MultipleLinearRegression(0.001,10000)\n",
    "stacking_model = StackingRegressor(base_models, meta_model)\n",
    "r2=stacking_model.blending(X_train_reg, y_train_reg)\n",
    "if(r2>best_r2_dt):\n",
    "    best_r2_dt=r2\n",
    "    training_time_reg_dt=end-start\n",
    "\n",
    "meta_model = DecisionTreeRegressor(criterion='squared_error',max_depth=20)\n",
    "stacking_model = StackingRegressor(base_models, meta_model)\n",
    "r2=stacking_model.stacking(X_train_reg, y_train_reg)\n",
    "if(r2>best_r2_dt):\n",
    "    best_r2_dt=r2\n",
    "    training_time_reg_dt=end-start\n",
    "\n",
    "meta_model = DecisionTreeRegressor(criterion='squared_error',max_depth=20)\n",
    "stacking_model = StackingRegressor(base_models, meta_model)\n",
    "r2=stacking_model.blending(X_train_reg, y_train_reg)\n",
    "if(r2>best_r2_dt):\n",
    "    best_r2_dt=r2\n",
    "    training_time_reg_dt=end-start"
   ]
  },
  {
   "cell_type": "code",
   "execution_count": 14,
   "metadata": {},
   "outputs": [],
   "source": [
    "import time\n",
    "base_models = [MLPRegressor(13,5,5,1,acivationFunction=\"sigmoid\",number_epoch=1000,learning_rate=0.001,optimizer=\"sgd\"),MLPRegressor(13,5,5,1,acivationFunction=\"sigmoid\",number_epoch=1000,learning_rate=0.001,optimizer=\"sgd\"),MLPRegressor(13,5,5,1,acivationFunction=\"sigmoid\",number_epoch=1000,learning_rate=0.001,optimizer=\"sgd\")]\n",
    "best_r2_mlp = 0\n",
    "training_time_reg_mlp = 0\n",
    "meta_model = MultipleLinearRegression(0.001,10000)\n",
    "stacking_model = StackingRegressor(base_models, meta_model)\n",
    "start=time.time()\n",
    "r2=stacking_model.stacking(X_train_reg, y_train_reg)\n",
    "end=time.time()\n",
    "if(r2>best_r2_mlp):\n",
    "    best_r2_mlp=r2\n",
    "    training_time_reg_mlp=end-start\n",
    "\n",
    "meta_model = MultipleLinearRegression(0.001,10000)\n",
    "stacking_model = StackingRegressor(base_models, meta_model)\n",
    "r2=stacking_model.blending(X_train_reg, y_train_reg)\n",
    "if(r2>best_r2_mlp):\n",
    "    best_r2_mlp=r2\n",
    "    training_time_reg_mlp=end-start\n",
    "\n",
    "meta_model = DecisionTreeRegressor(criterion='squared_error',max_depth=20)\n",
    "stacking_model = StackingRegressor(base_models, meta_model)\n",
    "r2=stacking_model.stacking(X_train_reg, y_train_reg)\n",
    "if(r2>best_r2_mlp):\n",
    "    best_r2_mlp=r2\n",
    "    training_time_reg_mlp=end-start\n",
    "\n",
    "meta_model = DecisionTreeRegressor(criterion='squared_error',max_depth=20)\n",
    "stacking_model = StackingRegressor(base_models, meta_model)\n",
    "r2=stacking_model.blending(X_train_reg, y_train_reg)\n",
    "if(r2>best_r2_mlp):\n",
    "    best_r2_mlp=r2\n",
    "    training_time_reg_mlp=end-start"
   ]
  },
  {
   "cell_type": "code",
   "execution_count": 15,
   "metadata": {},
   "outputs": [
    {
     "data": {
      "image/png": "[encoded data removed]",
      "text/plain": [
       "<Figure size 640x480 with 1 Axes>"
      ]
     },
     "metadata": {},
     "output_type": "display_data"
    }
   ],
   "source": [
    "import matplotlib.pyplot as plt\n",
    "\n",
    "base_estimator_models=['LinearRegression','MultiLayerPerceptron','DecisionTree']\n",
    "bagging_ensemble_r2 = [0.773,0.916,0.936]\n",
    "stacking_ensemble_r2 = [best_r2_lg,best_r2_mlp,best_r2_dt]\n",
    "\n",
    "fig, ax = plt.subplots()\n",
    "ax.bar(np.arange(3), bagging_ensemble_r2, width=0.4, label=\"Bagging Ensemble\", align='center')\n",
    "ax.bar(np.arange(3) + 0.4, stacking_ensemble_r2, width=0.4, label=\"Stacking Ensemble\", align='center', color='orange')\n",
    "ax.set_xticks(np.arange(3) + 0.2)\n",
    "ax.set_xticklabels(base_estimator_models)\n",
    "ax.set_ylabel('r2_score')\n",
    "ax.set_title('Bagging vs Stacking Regressor r2_score')\n",
    "ax.legend(bbox_to_anchor=(1, 1), loc='upper left')\n",
    "plt.show()\n"
   ]
  },
  {
   "cell_type": "code",
   "execution_count": 16,
   "metadata": {},
   "outputs": [
    {
     "data": {
      "image/png": "[encoded data removed]",
      "text/plain": [
       "<Figure size 640x480 with 1 Axes>"
      ]
     },
     "metadata": {},
     "output_type": "display_data"
    }
   ],
   "source": [
    "import matplotlib.pyplot as plt\n",
    "\n",
    "base_estimator_models=['LinearRegression','MultiLayerPerceptron','DecisionTree']\n",
    "bagging_ensemble_training_time = [4.10,1216.16,0.298]\n",
    "stacking_ensemble_training_time = [training_time_reg_lg,training_time_reg_mlp,training_time_reg_dt]\n",
    "\n",
    "fig, ax = plt.subplots()\n",
    "ax.bar(np.arange(3), bagging_ensemble_training_time, width=0.4, label=\"Bagging Ensemble\", align='center')\n",
    "ax.bar(np.arange(3) + 0.4, stacking_ensemble_training_time, width=0.4, label=\"Stacking Ensemble\", align='center', color='orange')\n",
    "ax.set_xticks(np.arange(3) + 0.2)\n",
    "ax.set_xticklabels(base_estimator_models)\n",
    "ax.set_ylabel('Training Time')\n",
    "ax.set_title('Bagging vs Stacking Regressor Training Time')\n",
    "ax.legend(bbox_to_anchor=(1, 1), loc='upper left')\n",
    "plt.show()\n"
   ]
  }
 ],
 "metadata": {
  "kernelspec": {
   "display_name": "Python 3",
   "language": "python",
   "name": "python3"
  },
  "language_info": {
   "codemirror_mode": {
    "name": "ipython",
    "version": 3
   },
   "file_extension": ".py",
   "mimetype": "text/x-python",
   "name": "python",
   "nbconvert_exporter": "python",
   "pygments_lexer": "ipython3",
   "version": "3.10.12"
  }
 },
 "nbformat": 4,
 "nbformat_minor": 2
}
